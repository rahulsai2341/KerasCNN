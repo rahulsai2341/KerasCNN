{
  "nbformat": 4,
  "nbformat_minor": 0,
  "metadata": {
    "colab": {
      "name": "Keras_CNN.ipynb",
      "version": "0.3.2",
      "provenance": [],
      "collapsed_sections": [],
      "include_colab_link": true
    },
    "kernelspec": {
      "name": "python3",
      "display_name": "Python 3"
    },
    "accelerator": "GPU"
  },
  "cells": [
    {
      "cell_type": "markdown",
      "metadata": {
        "id": "view-in-github",
        "colab_type": "text"
      },
      "source": [
        "<a href=\"https://colab.research.google.com/github/rahulsai2341/KerasCNN/blob/master/Keras_CNN.ipynb\" target=\"_parent\"><img src=\"https://colab.research.google.com/assets/colab-badge.svg\" alt=\"Open In Colab\"/></a>"
      ]
    },
    {
      "metadata": {
        "id": "dxZSstd18a_o",
        "colab_type": "code",
        "colab": {}
      },
      "cell_type": "code",
      "source": [
        "import keras\n",
        "from keras.datasets import mnist\n",
        "from keras.layers import Dense,Flatten\n",
        "from keras.layers import Conv2D, MaxPooling2D\n",
        "from keras.models import Sequential\n",
        "import matplotlib.pylab as plt\n",
        "import numpy as np\n",
        "\n",
        "batch_size = 128\n",
        "num_classes = 10\n",
        "epochs = 10\n",
        "\n",
        "#imput dimension\n",
        "img_x,img_y = 28,28\n",
        "\n",
        "#Load mnist dataset\n",
        "(x_train,y_train),(x_test,y_test) = mnist.load_data()\n",
        "print(x_train.shape)\n",
        "#Reshape the data into 4d tensor\n",
        "x_train = x_train.reshape(x_train.shape[0], img_x, img_y,1)\n",
        "x_test = x_test.reshape(x_test.shape[0],img_x,img_y,1)\n",
        "input_shape = (img_x,img_y,1)\n",
        "#convert data into right type\n",
        "x_train = x_train.astype('float32')\n",
        "x_test = x_test.astype('float32')\n",
        "x_train /=255\n",
        "x_test /= 255\n",
        "print(x_train.shape)\n",
        "y_train = keras.utils.to_categorical(y_train, num_classes)\n",
        "y_test = keras.utils.to_categorical(y_test, num_classes)\n"
      ],
      "execution_count": 0,
      "outputs": []
    },
    {
      "metadata": {
        "id": "UhJsVgYFIdwf",
        "colab_type": "code",
        "colab": {}
      },
      "cell_type": "code",
      "source": [
        "model = Sequential()\n",
        "model.add(Conv2D(32,kernel_size=(5,5),strides=(1,1),activation='tanh',input_shape=input_shape))\n",
        "#conv_img = model.predict(x_train)\n",
        "#print(conv_img.shape)\n",
        "#conv_img = np.squeeze(conv_img[10,:,:,1])\n",
        "#print(conv_img.shape)\n",
        "#plt.imshow(conv_img[:,:])"
      ],
      "execution_count": 0,
      "outputs": []
    },
    {
      "metadata": {
        "id": "4CwKkz5rgycj",
        "colab_type": "code",
        "colab": {}
      },
      "cell_type": "code",
      "source": [
        "model.add(MaxPooling2D(pool_size=(2,2),strides=(2,2)))\n",
        "#conv_img = model.predict(x_train)\n",
        "#print(conv_img.shape)\n",
        "#conv_img = np.squeeze(conv_img[10,:,:,1])\n",
        "#print(conv_img.shape)\n",
        "#plt.imshow(conv_img[:,:])"
      ],
      "execution_count": 0,
      "outputs": []
    },
    {
      "metadata": {
        "id": "TLrmhKbdgyl6",
        "colab_type": "code",
        "colab": {}
      },
      "cell_type": "code",
      "source": [
        "model.add(Conv2D(64,kernel_size=(5,5),activation='tanh'))\n",
        "#conv_img = model.predict(x_train)\n",
        "#print(conv_img.shape)\n",
        "#conv_img = np.squeeze(conv_img[10,:,:,1])\n",
        "#print(conv_img.shape)\n",
        "#plt.imshow(conv_img[:,:])"
      ],
      "execution_count": 0,
      "outputs": []
    },
    {
      "metadata": {
        "id": "uPhPgpiTgyqf",
        "colab_type": "code",
        "colab": {}
      },
      "cell_type": "code",
      "source": [
        "model.add(MaxPooling2D(pool_size=(2,2)))\n",
        "#conv_img = model.predict(x_train)\n",
        "#print(conv_img.shape)\n",
        "#conv_img = np.squeeze(conv_img[10,:,:,1])\n",
        "#print(conv_img.shape)\n",
        "#plt.imshow(conv_img[:,:])"
      ],
      "execution_count": 0,
      "outputs": []
    },
    {
      "metadata": {
        "id": "7mYy-UvdgsQP",
        "colab_type": "code",
        "colab": {}
      },
      "cell_type": "code",
      "source": [
        "model.add(Flatten())\n",
        "model.add(Dense(1000,activation='tanh'))\n",
        "model.add(Dense(num_classes,activation='softmax'))"
      ],
      "execution_count": 0,
      "outputs": []
    },
    {
      "metadata": {
        "id": "lGlYd4JDQaMi",
        "colab_type": "code",
        "colab": {}
      },
      "cell_type": "code",
      "source": [
        "model.compile(loss=keras.losses.categorical_crossentropy,\n",
        "              optimizer=keras.optimizers.SGD(),\n",
        "              metrics=['accuracy'])\n",
        "\n",
        "\n",
        "class AccuracyHistory(keras.callbacks.Callback):\n",
        "    def on_train_begin(self, logs={}):\n",
        "        self.acc = []\n",
        "\n",
        "    def on_epoch_end(self, batch, logs={}):\n",
        "        self.acc.append(logs.get('acc'))\n",
        "\n",
        "history = AccuracyHistory()\n",
        "\n",
        "model.fit(x_train, y_train,\n",
        "          batch_size=batch_size,\n",
        "          epochs=epochs,\n",
        "          verbose=1,\n",
        "          validation_data=(x_test, y_test),\n",
        "          callbacks=[history])\n",
        "score = model.evaluate(x_test, y_test, verbose=0)\n",
        "print('Test loss:', score[0])\n",
        "print('Test accuracy:', score[1])\n",
        "plt.plot(range(1, 11), history.acc)\n",
        "plt.xlabel('Test Epochs')\n",
        "plt.ylabel('Test Accuracy')\n",
        "plt.show()\n",
        "\n",
        "score1 = model.evaluate(x_train, y_train, verbose=0)\n",
        "print('Test loss:', score1[0])\n",
        "print('Test accuracy:', score1[1])\n",
        "plt.plot(range(1, 11), history.acc)\n",
        "plt.xlabel('Train Epochs')\n",
        "plt.ylabel('Train Accuracy')\n",
        "plt.show()"
      ],
      "execution_count": 0,
      "outputs": []
    }
  ]
}